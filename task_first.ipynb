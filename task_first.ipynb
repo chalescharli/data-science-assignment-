{
 "cells": [
  {
   "cell_type": "code",
   "execution_count": 1,
   "metadata": {},
   "outputs": [
    {
     "name": "stderr",
     "output_type": "stream",
     "text": [
      "Matplotlib is building the font cache; this may take a moment.\n"
     ]
    }
   ],
   "source": [
    "import numpy as np\n",
    "import pandas as pd\n",
    "import matplotlib.pyplot as plt\n",
    "from sklearn.cluster import KMeans\n",
    "from sklearn.preprocessing import StandardScaler\n"
   ]
  },
  {
   "cell_type": "code",
   "execution_count": null,
   "metadata": {},
   "outputs": [],
   "source": [
    "# Generate a synthetic dataset\n",
    "from sklearn.datasets import make_blobs\n",
    "\n",
    "# Create dataset with 300 samples, 3 centers, and 2 features\n",
    "X, y = make_blobs(n_samples=300, centers=3, random_state=42, n_features=2)\n",
    "\n",
    "# Convert to DataFrame for better handling\n",
    "data = pd.DataFrame(X, columns=['Feature_1', 'Feature_2'])\n"
   ]
  },
  {
   "cell_type": "code",
   "execution_count": null,
   "metadata": {},
   "outputs": [
    {
     "name": "stderr",
     "output_type": "stream",
     "text": [
      "c:\\Users\\rr749.KAALIPARI\\AppData\\Local\\Programs\\Python\\Python311\\Lib\\site-packages\\sklearn\\cluster\\_kmeans.py:1416: FutureWarning: The default value of `n_init` will change from 10 to 'auto' in 1.4. Set the value of `n_init` explicitly to suppress the warning\n",
      "  super()._check_params_vs_input(X, default_n_init=10)\n"
     ]
    }
   ],
   "source": [
    "# Standardize the features\n",
    "scaler = StandardScaler()\n",
    "data_scaled = scaler.fit_transform(data)\n",
    "\n",
    "# Apply K-Means clustering\n",
    "kmeans = KMeans(n_clusters=3, random_state=42)\n",
    "kmeans.fit(data_scaled)\n",
    "\n",
    "# Add the cluster labels to the original data\n",
    "data['Cluster'] = kmeans.labels_\n"
   ]
  },
  {
   "cell_type": "code",
   "execution_count": null,
   "metadata": {},
   "outputs": [],
   "source": [
    "def predict_cluster(new_data, kmeans_model, scaler):\n",
    "    # Scale the new data point using the same scaler\n",
    "    new_data_scaled = scaler.transform([new_data])\n",
    "    \n",
    "    # Predict the cluster for the new data point\n",
    "    cluster = kmeans_model.predict(new_data_scaled)[0]\n",
    "    \n",
    "    return cluster\n"
   ]
  },
  {
   "cell_type": "code",
   "execution_count": null,
   "metadata": {},
   "outputs": [],
   "source": [
    "def explain_cluster(new_data, kmeans_model, scaler):\n",
    "    # Scale the new data point\n",
    "    new_data_scaled = scaler.transform([new_data])\n",
    "    \n",
    "    # Calculate distances to each cluster centroid\n",
    "    distances = kmeans_model.transform(new_data_scaled)\n",
    "    \n",
    "    # Find the closest cluster\n",
    "    cluster = np.argmin(distances)\n",
    "    \n",
    "    explanation = f\"The data point {new_data} is closest to the centroid of cluster {cluster} with a distance of {distances[0][cluster]:.4f}.\"\n",
    "    \n",
    "    return explanation\n"
   ]
  }
 ],
 "metadata": {
  "kernelspec": {
   "display_name": "Python 3",
   "language": "python",
   "name": "python3"
  },
  "language_info": {
   "codemirror_mode": {
    "name": "ipython",
    "version": 3
   },
   "file_extension": ".py",
   "mimetype": "text/x-python",
   "name": "python",
   "nbconvert_exporter": "python",
   "pygments_lexer": "ipython3",
   "version": "3.11.5"
  }
 },
 "nbformat": 4,
 "nbformat_minor": 2
}
